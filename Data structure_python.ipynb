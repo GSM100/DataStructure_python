{
  "nbformat": 4,
  "nbformat_minor": 0,
  "metadata": {
    "colab": {
      "provenance": []
    },
    "kernelspec": {
      "name": "python3",
      "display_name": "Python 3"
    },
    "language_info": {
      "name": "python"
    }
  },
  "cells": [
    {
      "cell_type": "code",
      "execution_count": null,
      "metadata": {
        "id": "KB4DLGDzI9i9"
      },
      "outputs": [],
      "source": []
    },
    {
      "cell_type": "markdown",
      "source": [
        "1. What are data structures, and why are they important\n",
        "   \n",
        "   - A data structure in Python is a way of organizing, storing, and manipulating data efficiently. Python provides built-in data structures and allows the creation of custom ones for optimized performance and memory usage.\n",
        "\n",
        "     Why Are Data Structures Important in Python :\n",
        "\n",
        "     Efficient Data Management – Helps handle large amounts of data systematically.\n",
        "\n",
        "     Optimized Performance – Improves speed in operations like searching, sorting, and accessing data.\n",
        "\n",
        "     Simplifies Problem Solving – Many real-world problems rely on efficient data handling.\n",
        "\n",
        "     Reduces Memory Usage – Proper data structures help optimize space complexity.\n",
        "\n",
        "     Enhances Code Readability – Python’s built-in data structures are intuitive and easy to use.\n",
        "\n",
        "     Types of Data Structures in Python\n",
        "   1. Built-in Data Structures\n",
        "     Python comes with several built-in data structures that make data manipulation easy:\n",
        "\n",
        "     Lists (list) – Dynamic arrays that allow modifications.\n",
        "\n",
        "     Tuples (tuple) – Immutable sequences for fixed data.\n",
        "Sets (set) – Unordered collections with unique elements.\n",
        "Dictionaries (dict) – Key-value pairs for fast lookups.\n",
        "  2. User-Defined Data Structures\n",
        "Python also allows implementing advanced data structures like:\n",
        "\n",
        "   Stacks – Implemented using list or collections.deque.\n",
        "\n",
        "     Queues – Implemented using collections.deque or queue module.\n",
        "\n",
        "  Linked Lists – Implemented using classes and pointers.\n",
        "\n",
        "   Trees & Graphs – Built using classes and recursive structures.\n",
        "Hash Tables – Implemented using Python’s dict.\n",
        "\n",
        "     Real-World Applications of Data Structures in Python\n",
        "Web Development – Managing user sessions, caching, and data storage.\n",
        "Machine Learning & AI – Handling large datasets efficiently.\n",
        "Database Management – Storing and retrieving records effectively.\n",
        "Networking – Routing algorithms use graphs and trees.\n",
        "Cybersecurity – Hashing for secure data storage."
      ],
      "metadata": {
        "id": "b6ypJr8kL4fH"
      }
    },
    {
      "cell_type": "markdown",
      "source": [
        "2. Explain the difference between mutable and immutable data types with examples\n",
        "  \n",
        "  - In Python, mutability refers to whether an object's state (i.e., its contents) can be changed after it is created.\n",
        "\n",
        "   Mutable objects can be modified after creation.\n",
        "\n",
        "   Immutable objects cannot be changed once created.\n",
        "\n",
        "   Mutable Data Types (Can be changed)\n",
        "\n",
        "   These objects allow modification after creation, meaning elements can be added, removed, or updated.\n",
        "\n",
        "   Examples:\n",
        "   Lists (list)"
      ],
      "metadata": {
        "id": "9ko3aMVFSIeN"
      }
    },
    {
      "cell_type": "code",
      "source": [
        "my_list = [1, 2, 3]\n",
        "my_list.append(4)  # Modifying the list\n",
        "print(my_list)  # Output: [1, 2, 3, 4]"
      ],
      "metadata": {
        "id": "wiUOiUSzUYHd"
      },
      "execution_count": null,
      "outputs": []
    },
    {
      "cell_type": "markdown",
      "source": [
        "Dictionaries (dict)"
      ],
      "metadata": {
        "id": "GHpGw04mUn2g"
      }
    },
    {
      "cell_type": "code",
      "source": [
        "my_dict = {'a': 1, 'b': 2}\n",
        "my_dict['c'] = 3  # Modifying the dictionary\n",
        "print(my_dict)  # Output: {'a': 1, 'b': 2, 'c': 3}\n"
      ],
      "metadata": {
        "id": "OIuSYRsHTTk2"
      },
      "execution_count": null,
      "outputs": []
    },
    {
      "cell_type": "markdown",
      "source": [
        "Sets (set)"
      ],
      "metadata": {
        "id": "kPsJOLvWTiAT"
      }
    },
    {
      "cell_type": "code",
      "source": [
        "my_set = {1, 2, 3}\n",
        "my_set.add(4)  # Modifying the set\n",
        "print(my_set)  # Output: {1, 2, 3, 4}\n"
      ],
      "metadata": {
        "colab": {
          "base_uri": "https://localhost:8080/"
        },
        "id": "GIL4LxeiTzYS",
        "outputId": "8ce97353-f453-4812-e6fa-abf3700a2b5a"
      },
      "execution_count": null,
      "outputs": [
        {
          "output_type": "stream",
          "name": "stdout",
          "text": [
            "{1, 2, 3, 4}\n"
          ]
        }
      ]
    },
    {
      "cell_type": "markdown",
      "source": [
        "Byte Arrays (bytearray)"
      ],
      "metadata": {
        "id": "UqY-oxB1T19T"
      }
    },
    {
      "cell_type": "markdown",
      "source": [
        "fgff"
      ],
      "metadata": {
        "id": "__NzKGrmXMJg"
      }
    },
    {
      "cell_type": "code",
      "source": [
        "ba = bytearray([65, 66, 67])\n",
        "ba[0] = 68  # Changing a byte\n",
        "print(ba)  # Output: bytearray(b'DBC')\n"
      ],
      "metadata": {
        "collapsed": true,
        "id": "I284G85dT6x_"
      },
      "execution_count": null,
      "outputs": []
    },
    {
      "cell_type": "markdown",
      "source": [
        "3. What are the main differences between lists and tuples in Python?\n",
        "\n",
        "  - Main Differences Between Lists and Tuples in Python\n",
        "Both lists and tuples are used to store collections of elements in Python, but they differ in mutability, performance, memory usage, and use cases.\n",
        "\n",
        " Mutability\n",
        "\n",
        "  Lists (list) are mutable, meaning elements can be changed, added, or removed after creation.\n",
        "\n",
        " Tuples (tuple) are immutable, meaning their elements cannot be changed once created.\n"
      ],
      "metadata": {
        "id": "DHnpWaQ6YjPA"
      }
    },
    {
      "cell_type": "code",
      "source": [
        "# List (Mutable)\n",
        "my_list = [1, 2, 3]\n",
        "my_list[0] = 100  # Allowed\n",
        "print(my_list)  # Output: [100, 2, 3]\n",
        "\n",
        "# Tuple (Immutable)\n",
        "my_tuple = (1, 2, 3)\n",
        "my_tuple[0] = 100  # ❌ Raises TypeError: 'tuple' object does not support item assignment\n"
      ],
      "metadata": {
        "id": "ahO6hUR5Zj_n"
      },
      "execution_count": null,
      "outputs": []
    },
    {
      "cell_type": "markdown",
      "source": [
        "Performance\n",
        "\n",
        "  -  Tuples are faster than lists because they are immutable and require less memory.\n",
        "Lists are slower as they require extra memory to support dynamic resizing."
      ],
      "metadata": {
        "id": "ic7685-x4loe"
      }
    },
    {
      "cell_type": "code",
      "source": [
        "import timeit\n",
        "\n",
        "print(timeit.timeit(\"x = [1, 2, 3, 4, 5]\", number=1000000))  # List\n",
        "print(timeit.timeit(\"x = (1, 2, 3, 4, 5)\", number=1000000))  # Tuple\n"
      ],
      "metadata": {
        "id": "RniUGUaV4yo8"
      },
      "execution_count": null,
      "outputs": []
    },
    {
      "cell_type": "markdown",
      "source": [
        "Syntax\n",
        "\n",
        "Lists use square brackets []\n",
        "\n",
        "Tuples use parentheses ()"
      ],
      "metadata": {
        "id": "T2gP56_H5J_s"
      }
    },
    {
      "cell_type": "code",
      "source": [
        "my_list = [1, 2, 3]  # List\n",
        "my_tuple = (1, 2, 3)  # Tuple\n"
      ],
      "metadata": {
        "id": "2eDOZaub5aO-"
      },
      "execution_count": null,
      "outputs": []
    },
    {
      "cell_type": "markdown",
      "source": [
        "Memory Usage\n",
        "\n",
        "Tuples use less memory than lists because they have a fixed size.\n",
        "\n",
        "Lists use more memory due to their dynamic nature.\n"
      ],
      "metadata": {
        "id": "ii0UR6r95hCW"
      }
    },
    {
      "cell_type": "code",
      "source": [
        "import sys\n",
        "\n",
        "list_data = [1, 2, 3, 4, 5]\n",
        "tuple_data = (1, 2, 3, 4, 5)\n",
        "\n",
        "print(sys.getsizeof(list_data))   # More memory usage\n",
        "print(sys.getsizeof(tuple_data))  # Less memory usage\n"
      ],
      "metadata": {
        "id": "cF9ShRm65s_f"
      },
      "execution_count": null,
      "outputs": []
    },
    {
      "cell_type": "markdown",
      "source": [
        "Methods Available\n",
        "\n",
        "Lists have more built-in methods because they are mutable.\n",
        "\n",
        "Tuples have fewer methods since they cannot be changed."
      ],
      "metadata": {
        "id": "G5NY490j6A9o"
      }
    },
    {
      "cell_type": "code",
      "source": [
        "# List Methods\n",
        "my_list = [1, 2, 3]\n",
        "my_list.append(4)  # ✅ Works\n",
        "my_list.remove(2)  # ✅ Works\n",
        "print(my_list)  # Output: [1, 3, 4]\n",
        "\n",
        "# Tuple Methods\n",
        "my_tuple = (1, 2, 3)\n",
        "my_tuple.count(2)  # ✅ Works\n",
        "my_tuple.index(3)  # ✅ Works\n",
        "my_tuple.append(4)  # ❌ AttributeError: 'tuple' object has no attribute 'append'\n"
      ],
      "metadata": {
        "id": "xXUnc1Yl6OX_"
      },
      "execution_count": null,
      "outputs": []
    },
    {
      "cell_type": "markdown",
      "source": [
        "4. Describe how dictionaries store data\n",
        "\n",
        "  - In Python, a dictionary (dict) is a built-in data structure that stores data in key-value pairs. It is implemented using a hash table, making lookups, insertions, and deletions very fast on average (O(1) time complexity).\n",
        "\n",
        "  - Structure of a Dictionary\n",
        "\n",
        "A dictionary consists of:\n",
        "\n",
        "Keys → Unique identifiers for values (must be immutable, e.g., strings, numbers, tuples).\n",
        "Values → Data associated with keys (can be any type)."
      ],
      "metadata": {
        "id": "e-atpTUE6tdS"
      }
    },
    {
      "cell_type": "code",
      "source": [
        "my_dict = {\n",
        "    \"name\": \"Alice\",\n",
        "    \"age\": 25,\n",
        "    \"city\": \"New York\"\n",
        "}\n"
      ],
      "metadata": {
        "id": "bMkB3KkT9yEO"
      },
      "execution_count": null,
      "outputs": []
    },
    {
      "cell_type": "markdown",
      "source": [
        "  -  How Data Is Stored Internally\n",
        "Python dictionaries use a hash table internally to store key-value pairs. The process follows these steps:\n",
        "\n",
        "Step 1: Compute the Hash of the Key\n",
        "\n",
        "When a key is inserted, Python computes its hash value using the built-in hash() function.\n",
        "The hash is an integer that determines where the key-value pair will be placed in memory.\n",
        "Step 2: Store in a Hash Table\n",
        "The key-value pair is placed in a hash table, an array of fixed size.\n",
        "The hash value determines the index in the table where the data will be stored.\n",
        "\n",
        "-   Handle Collisions\n",
        "\n",
        "If two keys generate the same hash (collision), Python uses open addressing (probing) to find the next available slot.\n",
        "Dictionaries dynamically resize when needed to maintain efficiency\n",
        "\n",
        "-Example of Dictionary Operations\n"
      ],
      "metadata": {
        "id": "blCDtifQ92Rq"
      }
    },
    {
      "cell_type": "code",
      "source": [
        "# Creating a dictionary\n",
        "student = {\"name\": \"John\", \"age\": 22, \"major\": \"CS\"}\n",
        "\n",
        "# Accessing values\n",
        "print(student[\"name\"])  # Output: John\n",
        "\n",
        "# Adding a new key-value pair\n",
        "student[\"GPA\"] = 3.8\n",
        "\n",
        "# Updating a value\n",
        "student[\"age\"] = 23\n",
        "\n",
        "# Deleting a key\n",
        "del student[\"major\"]\n",
        "\n",
        "print(student)  # Output: {'name': 'John', 'age': 23, 'GPA': 3.8}\n"
      ],
      "metadata": {
        "id": "JXMKyYjQAfNk"
      },
      "execution_count": null,
      "outputs": []
    },
    {
      "cell_type": "markdown",
      "source": [
        "5. Why might you use a set instead of a list in Python\n",
        "   - A set and a list are both used to store collections of items in Python, but they serve different purposes. Sets are particularly useful in scenarios where uniqueness and performance are priorities.\n",
        "\n",
        "     You might use a set instead of a list in Python for the following reasons:\n",
        "\n",
        "     Ensuring Uniqueness\n",
        "\n",
        "     A set automatically removes duplicate elements, ensuring all values are unique."
      ],
      "metadata": {
        "id": "T1eAPIu-Caij"
      }
    },
    {
      "cell_type": "code",
      "source": [
        "my_list = [1, 2, 2, 3, 4, 4, 5]\n",
        "my_set = set(my_list)\n",
        "print(my_set)  # Output: {1, 2, 3, 4, 5}"
      ],
      "metadata": {
        "id": "HcrIlkaZND-Y"
      },
      "execution_count": null,
      "outputs": []
    },
    {
      "cell_type": "markdown",
      "source": [
        "Faster Membership Checks (in operator):\n",
        "\n",
        "  Sets provide O(1) average time complexity for checking if an item exists, while lists take O(n)."
      ],
      "metadata": {
        "id": "k6JIdwS3NKdi"
      }
    },
    {
      "cell_type": "code",
      "source": [
        "my_set = {1, 2, 3, 4, 5}\n",
        "print(3 in my_set)  # Fast O(1) lookup"
      ],
      "metadata": {
        "id": "vMN9Q8CtN8hG"
      },
      "execution_count": null,
      "outputs": []
    },
    {
      "cell_type": "markdown",
      "source": [
        "Efficient Set Operations\n",
        "\n",
        "Sets support mathematical operations like union, intersection, and difference efficiently."
      ],
      "metadata": {
        "id": "wsEVYYf-OION"
      }
    },
    {
      "cell_type": "code",
      "source": [
        "A = {1, 2, 3, 4}\n",
        "B = {3, 4, 5, 6}\n",
        "print(A | B)  # Union: {1, 2, 3, 4, 5, 6}\n",
        "print(A & B)  # Intersection: {3, 4}\n",
        "print(A - B)  # Difference: {1, 2}"
      ],
      "metadata": {
        "id": "xQNDrSsHORl8"
      },
      "execution_count": null,
      "outputs": []
    },
    {
      "cell_type": "markdown",
      "source": [
        " Eliminating Duplicates Quickly\n",
        "\n",
        "If you want to remove duplicates from a list, converting it to a set is the easiest way."
      ],
      "metadata": {
        "id": "5PLktw_nOZ5p"
      }
    },
    {
      "cell_type": "code",
      "source": [
        "numbers = [1, 2, 2, 3, 4, 4, 5]\n",
        "unique_numbers = list(set(numbers))\n",
        "print(unique_numbers)  # Output: [1, 2, 3, 4, 5]"
      ],
      "metadata": {
        "id": "JmORqSvdOtuI"
      },
      "execution_count": null,
      "outputs": []
    },
    {
      "cell_type": "markdown",
      "source": [
        "6. What is a String in Python?\n",
        "\n",
        "  - A string in Python is a sequence of characters, enclosed in either single (') or double (\") quotes. Strings are immutable, meaning their contents cannot be changed after creation."
      ],
      "metadata": {
        "id": "Qy5rjl_mOyM1"
      }
    },
    {
      "cell_type": "code",
      "source": [
        "text = \"Hello, World!\"\n",
        "print(text)  # Output: Hello, World!"
      ],
      "metadata": {
        "id": "3Q2hRFhXP_7Q"
      },
      "execution_count": null,
      "outputs": []
    },
    {
      "cell_type": "markdown",
      "source": [
        "1.String (Immutable)"
      ],
      "metadata": {
        "id": "C3o6lw21QECn"
      }
    },
    {
      "cell_type": "code",
      "source": [
        "s = \"hello\"\n",
        "# s[0] = \"H\"  # ❌ TypeError: 'str' object does not support item assignment\n",
        "s = \"Hello\"  # ✅ Allowed: Reassignment (creates a new string)\n",
        "print(s)  # Output: Hello"
      ],
      "metadata": {
        "id": "744RuI7gRKcZ"
      },
      "execution_count": null,
      "outputs": []
    },
    {
      "cell_type": "markdown",
      "source": [
        "2.List (Mutable)"
      ],
      "metadata": {
        "id": "i_oda1_2RRWd"
      }
    },
    {
      "cell_type": "code",
      "source": [
        "l = ['h', 'e', 'l', 'l', 'o']\n",
        "l[0] = 'H'  # ✅ Allowed: Lists are mutable\n",
        "print(l)  # Output: ['H', 'e', 'l', 'l', 'o']"
      ],
      "metadata": {
        "id": "NeiTBJMiRZBa"
      },
      "execution_count": null,
      "outputs": []
    },
    {
      "cell_type": "markdown",
      "source": [
        "3.Converting Between String and List"
      ],
      "metadata": {
        "id": "LicmyJpBRgZf"
      }
    },
    {
      "cell_type": "code",
      "source": [
        "# String to List\n",
        "s = \"hello\"\n",
        "l = list(s)\n",
        "print(l)  # Output: ['h', 'e', 'l', 'l', 'o']\n",
        "\n",
        "# List to String\n",
        "new_s = \"\".join(l)\n",
        "print(new_s)  # Output: hello"
      ],
      "metadata": {
        "id": "4tk-iq7-Ru0U"
      },
      "execution_count": null,
      "outputs": []
    },
    {
      "cell_type": "markdown",
      "source": [
        "7.  How do tuples ensure data integrity in Python?\n",
        "\n",
        "  - A tuple in Python is an immutable sequence of elements, meaning its contents cannot be changed after creation. This immutability ensures data integrity by preventing accidental modifications.\n",
        "\n",
        "   Immutability Prevents Unintended Changes\n",
        "\n",
        "     Unlike lists, tuples cannot be modified after they are created. This ensures that the data remains consistent and protected from accidental alterations."
      ],
      "metadata": {
        "id": "IJCAPuVhR0ht"
      }
    },
    {
      "cell_type": "code",
      "source": [
        "t = (1, 2, 3, 4)\n",
        "# t[0] = 100  # ❌ TypeError: 'tuple' object does not support item assignment"
      ],
      "metadata": {
        "id": "0VFJdUi4Sz04"
      },
      "execution_count": null,
      "outputs": []
    },
    {
      "cell_type": "markdown",
      "source": [
        " Safe Data Sharing Between Functions\n",
        "\n",
        "   Tuples are ideal for passing data between functions because they prevent unintended modifications."
      ],
      "metadata": {
        "id": "GeOm8vbBS7PI"
      }
    },
    {
      "cell_type": "code",
      "source": [
        "def process_data(data):\n",
        "    # data[0] = 100  # ❌ TypeError: Cannot modify a tuple\n",
        "    print(data)\n",
        "\n",
        "my_tuple = (10, 20, 30)\n",
        "process_data(my_tuple)  # The original tuple remains unchanged"
      ],
      "metadata": {
        "id": "JLgMlSgWTFJP"
      },
      "execution_count": null,
      "outputs": []
    },
    {
      "cell_type": "markdown",
      "source": [
        "Hashability & Dictionary Keys\n",
        "\n",
        "Since tuples are hashable, they can be used as dictionary keys, ensuring data consistency in mappings."
      ],
      "metadata": {
        "id": "7ecHbdEsTKt0"
      }
    },
    {
      "cell_type": "code",
      "source": [
        "coordinates = {(10, 20): \"Point A\", (30, 40): \"Point B\"}\n",
        "print(coordinates[(10, 20)])  # Output: Point A"
      ],
      "metadata": {
        "id": "HhVj8-1KTW7v"
      },
      "execution_count": null,
      "outputs": []
    },
    {
      "cell_type": "markdown",
      "source": [
        "Memory Efficiency & Performance\n",
        "\n",
        "Tuples use less memory and are faster than lists. Their fixed nature allows optimizations, making them ideal for large datasets where read-only access is needed."
      ],
      "metadata": {
        "id": "f0rxavtBTfJy"
      }
    },
    {
      "cell_type": "code",
      "source": [
        "import sys\n",
        "list_obj = [1, 2, 3, 4, 5]\n",
        "tuple_obj = (1, 2, 3, 4, 5)\n",
        "\n",
        "print(sys.getsizeof(list_obj))  # More memory usage\n",
        "print(sys.getsizeof(tuple_obj))  # Less memory usage"
      ],
      "metadata": {
        "id": "fs73aqS5Tnet"
      },
      "execution_count": null,
      "outputs": []
    },
    {
      "cell_type": "markdown",
      "source": [
        "8. What is a hash table, and how does it relate to dictionaries in Python?\n",
        "\n",
        "  - What is a Hash Table?\n",
        "A hash table (or hash map) is a data structure that stores key-value pairs and allows fast retrieval of values based on keys. It works by using a hash function to compute an index where the value is stored.\n",
        "\n",
        "How a Hash Table Works:\n",
        "\n",
        "The hash function converts a key (e.g., \"Alice\") into a numeric index.\n",
        "The key-value pair is stored in an array (hash table) at that index.\n",
        "To retrieve a value, the key is hashed again, and the index is looked up, making it very fast (average case O(1) time complexity).\n",
        "\n",
        "How Does a Hash Table Relate to Dictionaries in Python?\n",
        "In Python 3, the built-in dict (dictionary) is implemented as a hash table.\n",
        "\n",
        "This means:\n",
        "\n",
        "✅ Fast lookups (O(1)) – Searching for a key is highly efficient.\n",
        "\n",
        "✅ Unique keys – Each key in a dictionary must be unique.\n",
        "\n",
        "✅ Insertion order preserved – Since Python 3.7, dictionaries remember the order in which keys were added.\n",
        "\n",
        "Example: Dictionary (Python’s Hash Table)"
      ],
      "metadata": {
        "id": "bxChfX6jTtaA"
      }
    },
    {
      "cell_type": "code",
      "source": [
        "# Creating a dictionary (hash table)\n",
        "student_grades = {\"Alice\": 90, \"Bob\": 85, \"Charlie\": 92}\n",
        "\n",
        "# Fast lookup (O(1) on average)\n",
        "print(student_grades[\"Alice\"])  # Output: 90\n",
        "\n",
        "# Adding a new key-value pair\n",
        "student_grades[\"David\"] = 88\n",
        "\n",
        "# Checking if a key exists\n",
        "if \"Charlie\" in student_grades:\n",
        "    print(\"Charlie's grade:\", student_grades[\"Charlie\"])"
      ],
      "metadata": {
        "id": "3QU7-k1SWF7Z"
      },
      "execution_count": null,
      "outputs": []
    },
    {
      "cell_type": "markdown",
      "source": [
        "  How Does Python Handle Hash Collisions\n",
        "  \n",
        "A hash collision occurs when different keys produce the same hash index.\n",
        "Python handles collisions using open addressing (a technique called probing), which finds an alternative empty slot to store the key-value pair."
      ],
      "metadata": {
        "id": "ooFNaaY_WUwo"
      }
    },
    {
      "cell_type": "markdown",
      "source": [
        "9. Can lists contain different data types in Python?\n",
        "\n",
        "  -  Yes! Lists in Python can contain different data types because they are heterogeneous, meaning they can store elements of different types within the same list.\n",
        "\n",
        "Example of a List with Different Data Types"
      ],
      "metadata": {
        "id": "HozxbGumWjAk"
      }
    },
    {
      "cell_type": "code",
      "source": [
        "my_list = [42, \"hello\", 3.14, True, [1, 2, 3], {\"name\": \"Alice\"}]\n",
        "print(my_list)\n",
        "# Output: [42, 'hello', 3.14, True, [1, 2, 3], {'name': 'Alice'}]"
      ],
      "metadata": {
        "id": "dXuLmj6ZXV10"
      },
      "execution_count": null,
      "outputs": []
    },
    {
      "cell_type": "markdown",
      "source": [
        "Explanation\n",
        "\n",
        "The list above contains:\n",
        "\n",
        "✅ An integer (42)\n",
        "\n",
        "✅ A string (\"hello\")\n",
        "\n",
        "✅ A float (3.14)\n",
        "\n",
        "✅ A boolean (True)\n",
        "\n",
        "✅ A nested list ([1, 2, 3])\n",
        "\n",
        "✅ A dictionary ({\"name\": \"Alice\"})"
      ],
      "metadata": {
        "id": "sDOGmoZTXp9P"
      }
    },
    {
      "cell_type": "markdown",
      "source": [
        "10. Explain why strings are immutable in Python?\n",
        "\n",
        "   - Why Are Strings Immutable in Python?\n",
        "In Python, strings are immutable, meaning their contents cannot be changed after they are created. This design choice provides several benefits, including performance, security, and hashability.\n",
        "\n",
        "  i) Memory Efficiency (Interning & Reusability)\n",
        "Python optimizes memory usage by reusing immutable string objects instead of creating new one"
      ],
      "metadata": {
        "id": "92QhnWZ4YDFn"
      }
    },
    {
      "cell_type": "code",
      "source": [
        "s1 = \"hello\"\n",
        "s2 = \"hello\"\n",
        "\n",
        "print(s1 is s2)  # Output: True (both point to the same memory location)\n",
        "\n",
        "#Advantage: Reduces memory consumption when dealing with repeated strings."
      ],
      "metadata": {
        "id": "RehvBk8LY-6T"
      },
      "execution_count": null,
      "outputs": []
    },
    {
      "cell_type": "markdown",
      "source": [
        "  ii) Hashability (Used in Dictionaries & Sets)\n",
        "\n",
        "Since strings are immutable, their hash value remains constant, making them usable as dictionary keys and set elements."
      ],
      "metadata": {
        "id": "Nymt2T96ZRSE"
      }
    },
    {
      "cell_type": "code",
      "source": [
        "my_dict = {\"name\": \"Alice\", \"age\": 25}\n",
        "print(my_dict[\"name\"])  # Output: Alice\n",
        "\n",
        "#  Advantage: Ensures fast lookups in dictionaries and unique elements in sets."
      ],
      "metadata": {
        "id": "gCXkX3CZZbB5"
      },
      "execution_count": null,
      "outputs": []
    },
    {
      "cell_type": "markdown",
      "source": [
        "iii) Thread Safety\n",
        "\n",
        "Because strings cannot be modified, they are safe to use in multi-threaded programs without worrying about race conditions.\n",
        "\n",
        "Advantage: No unexpected changes when multiple threads access the same string.\n"
      ],
      "metadata": {
        "id": "qLAJkuKfZ-b_"
      }
    },
    {
      "cell_type": "markdown",
      "source": [
        "iv)  Prevents Unintentional Modifications\n",
        "\n",
        "String immutability prevents accidental modifications, reducing bugs."
      ],
      "metadata": {
        "id": "NC0AEuklaKAM"
      }
    },
    {
      "cell_type": "code",
      "source": [
        "s = \"hello\"\n",
        "# s[0] = \"H\"  # ❌ TypeError: 'str' object does not support item assignment\n",
        "\n",
        "#Advantage: Improves data integrity and debugging."
      ],
      "metadata": {
        "id": "FlsOLrxJaY_B"
      },
      "execution_count": null,
      "outputs": []
    },
    {
      "cell_type": "markdown",
      "source": [
        "11. What advantages do dictionaries offer over lists for certain tasks?\n",
        "\n",
        "  - Dictionaries offer several advantages over lists for certain tasks, especially when you need to map data efficiently. Here are some key benefits of dictionaries:\n",
        "\n",
        "1️⃣ Fast Lookup by Key (O(1) Average Time Complexity)\n",
        "\n",
        "Dictionaries allow for constant-time average lookups for a value based on its key. This is much faster than lists, where you have to search through each element (O(n)).\n",
        "\n",
        "Example"
      ],
      "metadata": {
        "id": "Ud_SgYMHauvX"
      }
    },
    {
      "cell_type": "code",
      "source": [
        "my_dict = {\"name\": \"Alice\", \"age\": 25, \"city\": \"New York\"}\n",
        "# Fast lookup by key\n",
        "print(my_dict[\"name\"])  # Output: Alice\n"
      ],
      "metadata": {
        "id": "9Y1-uZG2bpU-"
      },
      "execution_count": null,
      "outputs": []
    },
    {
      "cell_type": "markdown",
      "source": [
        "When to Use:\n",
        "\n",
        "When you need to access values by unique identifiers (keys), like in databases, configuration settings, or user profiles."
      ],
      "metadata": {
        "id": "FHGEVzcAbsk1"
      }
    },
    {
      "cell_type": "markdown",
      "source": [
        "2️⃣ Key-Value Pair Storage\n",
        "\n",
        "Dictionaries store data in key-value pairs, which makes them perfect for mapping related information together. Lists can only store sequences of values, without a built-in mechanism for associating one value with another.\n",
        "\n",
        "Example"
      ],
      "metadata": {
        "id": "gT1Z1kugb1hx"
      }
    },
    {
      "cell_type": "code",
      "source": [
        "# Mapping students to their grades\n",
        "grades = {\"Alice\": 90, \"Bob\": 85, \"Charlie\": 92}\n"
      ],
      "metadata": {
        "id": "xjEGI7Xtb9Xs"
      },
      "execution_count": null,
      "outputs": []
    },
    {
      "cell_type": "markdown",
      "source": [
        "When to Use:\n",
        "\n",
        "When you need to associate values with keys, such as name-to-phone number or product-to-price relationships.\n"
      ],
      "metadata": {
        "id": "8E14KR_LcA7h"
      }
    },
    {
      "cell_type": "markdown",
      "source": [
        "3️⃣ Uniqueness of Keys\n",
        "\n",
        "Dictionaries enforce unique keys. In a list, you can have duplicates, which may lead to confusion or errors in your data management.\n",
        "\n",
        "Example"
      ],
      "metadata": {
        "id": "ODv46EXQcJrX"
      }
    },
    {
      "cell_type": "code",
      "source": [
        "# Only one \"name\" key can exist in a dictionary\n",
        "my_dict = {\"name\": \"Alice\", \"name\": \"Bob\"}  # The second value overrides the first\n",
        "print(my_dict)  # Output: {'name': 'Bob'}\n"
      ],
      "metadata": {
        "id": "uqQPDanScR5c"
      },
      "execution_count": null,
      "outputs": []
    },
    {
      "cell_type": "markdown",
      "source": [
        "4️⃣ Easier Data Updates\n",
        "\n",
        "With dictionaries, you can update values directly by referencing the key. In a list, updating values often requires iterating over the list, especially when dealing with non-indexed or unordered elements.\n",
        "\n",
        "Example"
      ],
      "metadata": {
        "id": "KpOjwLxYcYyY"
      }
    },
    {
      "cell_type": "code",
      "source": [
        "my_dict = {\"name\": \"Alice\", \"age\": 25}\n",
        "my_dict[\"age\"] = 26  # Easy to update\n",
        "print(my_dict)  # Output: {'name': 'Alice', 'age': 26}"
      ],
      "metadata": {
        "id": "z67Wii24clle"
      },
      "execution_count": null,
      "outputs": []
    },
    {
      "cell_type": "markdown",
      "source": [
        "5️⃣ Flexible Data Types for Keys\n",
        "Dictionaries allow hashable data types (e.g., strings, numbers, tuples) as keys, which enables flexible use cases. In lists, you can only access data by index or value, making complex data structures less efficient.\n",
        "\n",
        "Example"
      ],
      "metadata": {
        "id": "xAB1iOEOcqJm"
      }
    },
    {
      "cell_type": "code",
      "source": [
        "my_dict = {(1, 2): \"point1\", (3, 4): \"point2\"}\n"
      ],
      "metadata": {
        "id": "7Lbzi6_Xcw5i"
      },
      "execution_count": null,
      "outputs": []
    },
    {
      "cell_type": "markdown",
      "source": [
        " When to Use a Dictionary Over a List\n",
        "\n",
        "Key-based lookups: When you need to quickly retrieve values by a unique key (e.g., user IDs, product names).\n",
        "\n",
        "Mapping relationships: When you want to pair items together, like name-to-age or student-to-grades.\n",
        "\n",
        "Uniqueness of data: When you need to enforce unique keys and avoid duplicates.\n",
        "\n",
        "Efficient updates: When you need to modify data quickly without searching.\n",
        "\n",
        "Complex data types as keys: When you need hashable objects (e.g., tuples or frozensets) as keys.\n",
        "\n",
        "Handling missing data gracefully: When you need to manage missing data without errors."
      ],
      "metadata": {
        "id": "q6eXMGiyc9o7"
      }
    },
    {
      "cell_type": "markdown",
      "source": [
        "12.  Describe a scenario where using a tuple would be preferable over a list?\n",
        "\n",
        "   - A scenario where using a tuple would be preferable over a list is when you need to store a collection of items that should remain constant and immutable throughout the program's execution. Tuples are ideal for representing fixed data structures, such as coordinates, database records, or configuration settings, where the integrity of the data must be preserved.\n",
        "\n",
        "Example Scenario: Geographic Coordinates\n",
        "\n",
        "Suppose you are developing a mapping application and need to store the latitude and longitude of specific locations. Since these coordinates are fixed and should not change, using a tuple is more appropriate than a list."
      ],
      "metadata": {
        "id": "cFbunZm4jZII"
      }
    },
    {
      "cell_type": "code",
      "source": [
        "# Using a tuple for geographic coordinates\n",
        "location = (37.7749, -122.4194)  # Latitude and longitude of San Francisco\n",
        "\n",
        "# Accessing the coordinates\n",
        "latitude, longitude = location\n",
        "print(f\"Latitude: {latitude}, Longitude: {longitude}\")"
      ],
      "metadata": {
        "id": "5GW70oe6j4Ci"
      },
      "execution_count": null,
      "outputs": []
    },
    {
      "cell_type": "markdown",
      "source": [
        "Why a Tuple is Preferable:\n",
        "\n",
        "Immutability: Tuples are immutable, meaning the coordinates cannot be accidentally modified after creation. This ensures data integrity.\n",
        "\n",
        "Performance: Tuples are generally faster to access and use less memory compared to lists, which is beneficial for fixed data.\n",
        "\n",
        "Semantics: Using a tuple signals to other developers that the data is intended to be constant and should not be altered.\n",
        "\n",
        "In contrast, if you used a list for this purpose, it would be possible to modify the coordinates, which could lead to unintended errors in the application.\n",
        "\n",
        " For example:"
      ],
      "metadata": {
        "id": "w8O_tbEtj7dv"
      }
    },
    {
      "cell_type": "code",
      "source": [
        "# Using a list (not recommended for this scenario)\n",
        "location = [37.7749, -122.4194]\n",
        "location[0] = 40.7128  # Accidentally changing the latitude"
      ],
      "metadata": {
        "id": "ooYHP-NrkFKI"
      },
      "execution_count": null,
      "outputs": []
    },
    {
      "cell_type": "markdown",
      "source": [
        "13.  How do sets handle duplicate values in Python?\n",
        "  -  In Python, sets are collections of unique elements, meaning they automatically handle duplicate values by ensuring that each element appears only once. When you add a value to a set that is already present, the set simply ignores the duplicate and does not add it again.\n",
        "\n",
        "     How Sets Handle Duplicates:\n",
        "\n",
        "     Uniqueness: Sets enforce uniqueness by design. If you attempt to add a duplicate value, it will not be included in the set.\n",
        "\n",
        "     No Order: Sets are unordered collections, so the order of elements is not preserved.\n",
        "\n",
        "     Hashing: Sets use a hash table internally to store elements, which allows for efficient checking of duplicates.\n",
        "\n",
        "     Example:    "
      ],
      "metadata": {
        "id": "Lzap4Oq3kKP3"
      }
    },
    {
      "cell_type": "code",
      "source": [
        "# Creating a set with duplicate values\n",
        "my_set = {1, 2, 3, 2, 4, 3, 5}\n",
        "\n",
        "# Printing the set\n",
        "print(my_set)  # Output: {1, 2, 3, 4, 5}\n",
        "\n",
        "#In this example, the set my_set automatically removes the duplicate values 2 and 3, resulting in a set containing only unique elements."
      ],
      "metadata": {
        "id": "02AfDaook8TN"
      },
      "execution_count": null,
      "outputs": []
    },
    {
      "cell_type": "markdown",
      "source": [
        "Adding Elements to a Set:\n",
        "\n",
        "When you add elements to a set using the add() method or by updating the set with another iterable, duplicates are automatically filtered out."
      ],
      "metadata": {
        "id": "_TNJeSF7lF8v"
      }
    },
    {
      "cell_type": "code",
      "source": [
        "# Adding elements to a set\n",
        "my_set.add(6)\n",
        "my_set.add(2)  # 2 is already in the set, so it won't be added again\n",
        "\n",
        "# Printing the updated set\n",
        "print(my_set)  # Output: {1, 2, 3, 4, 5, 6}"
      ],
      "metadata": {
        "id": "5CSdWCNalOQk"
      },
      "execution_count": null,
      "outputs": []
    },
    {
      "cell_type": "markdown",
      "source": [
        "Updating a Set with Another Iterable:\n",
        "\n",
        "You can also update a set with another iterable (e.g., a list or another set), and duplicates will be ignored."
      ],
      "metadata": {
        "id": "r15x1esClb7-"
      }
    },
    {
      "cell_type": "code",
      "source": [
        "# Updating a set with a list containing duplicates\n",
        "my_set.update([3, 4, 7, 8])\n",
        "\n",
        "# Printing the updated set\n",
        "print(my_set)  # Output: {1, 2, 3, 4, 5, 6, 7, 8}"
      ],
      "metadata": {
        "id": "_zbBxE8alfxH"
      },
      "execution_count": null,
      "outputs": []
    },
    {
      "cell_type": "markdown",
      "source": [
        "Key Takeaways:\n",
        "\n",
        "Sets automatically remove duplicate values, ensuring all elements are unique.\n",
        "\n",
        "This behavior is useful when you need to store a collection of items without duplicates, such as when finding unique elements in a list or performing set operations like unions and intersections.\n",
        "\n"
      ],
      "metadata": {
        "id": "BvZvZtQCllt_"
      }
    },
    {
      "cell_type": "markdown",
      "source": [
        "14. How does the “in” keyword work differently for lists and dictionaries?\n",
        "\n",
        "   - The in keyword is used to check for membership, but it works differently for lists and dictionaries due to their underlying data structures.\n",
        "\n",
        "     Lists: When used with a list, in performs a linear search, checking each element one by one until it finds a match or reaches the end of the list. This makes the operation slower for large lists, with a time complexity of O(n)."
      ],
      "metadata": {
        "id": "DOy5zxOozq7m"
      }
    },
    {
      "cell_type": "code",
      "source": [
        "my_list = [1, 2, 3, 4, 5]\n",
        "print(3 in my_list)  # Output: True"
      ],
      "metadata": {
        "id": "a4H-1DbY0QTU"
      },
      "execution_count": null,
      "outputs": []
    },
    {
      "cell_type": "markdown",
      "source": [
        "Dictionaries: When used with a dictionary, in checks for the presence of a key in the dictionary's hash table. This is a highly efficient operation with an average time complexity of O(1)."
      ],
      "metadata": {
        "id": "njwb8SqN0SSo"
      }
    },
    {
      "cell_type": "code",
      "source": [
        "my_dict = {'a': 1, 'b': 2, 'c': 3}\n",
        "print('b' in my_dict)  # Output: True"
      ],
      "metadata": {
        "id": "1tNMqfjY0Zae"
      },
      "execution_count": null,
      "outputs": []
    },
    {
      "cell_type": "markdown",
      "source": [
        "14.  Can you modify the elements of a tuple? Explain why or why not?\n",
        "\n",
        "   - No, you cannot modify the elements of a tuple after it has been created. Tuples are immutable, meaning their contents cannot be changed once defined. This immutability ensures data integrity and makes tuples suitable for storing fixed data, such as configuration settings or coordinates.\n",
        "\n",
        "     Example:"
      ],
      "metadata": {
        "id": "9hx6FOsu0gNt"
      }
    },
    {
      "cell_type": "code",
      "source": [
        "my_tuple = (1, 2, 3)\n",
        "my_tuple[0] = 10  # This will raise a TypeError"
      ],
      "metadata": {
        "id": "ayULLrhO04dK"
      },
      "execution_count": null,
      "outputs": []
    },
    {
      "cell_type": "markdown",
      "source": [
        "16. What is a nested dictionary, and give an example of its use case.\n",
        "A nested dictionary is a dictionary that contains other dictionaries as values. It is useful for representing hierarchical or structured data.\n",
        "\n",
        "Example Use Case: Storing student records with multiple attributes."
      ],
      "metadata": {
        "id": "bvGIu5OJ0_mq"
      }
    },
    {
      "cell_type": "code",
      "source": [
        "students = {\n",
        "    'Alice': {'age': 21, 'grade': 'A'},\n",
        "    'Bob': {'age': 22, 'grade': 'B'},\n",
        "    'Charlie': {'age': 20, 'grade': 'C'}\n",
        "}\n",
        "\n",
        "# Accessing nested data\n",
        "print(students['Alice']['age'])  # Output: 21"
      ],
      "metadata": {
        "id": "bODVLrM-SOxH"
      },
      "execution_count": null,
      "outputs": []
    },
    {
      "cell_type": "markdown",
      "source": [
        "17) Describe the time complexity of accessing elements in a dictionary\n",
        "\n",
        "   - Accessing elements in a dictionary has an average time complexity of O(1). This is because dictionaries use a hash table internally, which allows for constant-time lookups based on the key. However, in the worst case (e.g., due to hash collisions), the time complexity can degrade to O(n)."
      ],
      "metadata": {
        "id": "iOSv3mUtSbrs"
      }
    },
    {
      "cell_type": "markdown",
      "source": [
        "18) In what situations are lists preferred over dictionaries?\n",
        "Lists are preferred over dictionaries in the following situations:\n",
        "\n",
        "  - When the order of elements matters (lists maintain insertion order).\n",
        "\n",
        "     When you need to store a sequence of items that may contain duplicates.\n",
        "\n",
        "     When you need to perform operations like slicing, indexing, or iterating over a range of elements.\n",
        "\n",
        "     When the data does not have a natural key-value structure.\n",
        "\n",
        "Example:"
      ],
      "metadata": {
        "id": "79rhp5LrS1vo"
      }
    },
    {
      "cell_type": "code",
      "source": [
        "# Storing a sequence of temperatures\n",
        "temperatures = [22.5, 23.0, 24.5, 25.0]"
      ],
      "metadata": {
        "id": "wv_xHg5gTN3K"
      },
      "execution_count": null,
      "outputs": []
    },
    {
      "cell_type": "markdown",
      "source": [
        "19) Why are dictionaries considered unordered, and how does that affect data retrieval?\n",
        "\n",
        "\n",
        "   - In Python versions before 3.7, dictionaries were considered unordered because they did not guarantee any specific order of elements. However, starting from Python 3.7, dictionaries maintain insertion order as an implementation detail, and this behavior became official in Python 3.8.\n",
        "\n",
        "   Despite this, dictionaries are still primarily designed for key-based lookups rather than ordered data retrieval. This means:\n",
        "\n",
        "   You cannot rely on dictionaries for ordered operations like slicing or indexing by position.\n",
        "\n",
        "     Data retrieval is optimized for key-based access, not sequential access."
      ],
      "metadata": {
        "id": "3Hqfn1OdTQad"
      }
    },
    {
      "cell_type": "markdown",
      "source": [
        "20) Explain the difference between a list and a dictionary in terms of data retrieval.\n",
        "\n",
        "\n",
        "  - List: Data retrieval in a list is based on integer indices. Accessing an element by index is fast, with a time complexity of O(1). However, searching for an element using in requires a linear search, with a time complexity of O(n)."
      ],
      "metadata": {
        "id": "r0m7lEP0T2xZ"
      }
    },
    {
      "cell_type": "code",
      "source": [
        "my_list = [10, 20, 30]\n",
        "print(my_list[1])  # Output: 20 (fast access by index)\n",
        "print(20 in my_list)  # Output: True (slow search)"
      ],
      "metadata": {
        "id": "VkgywaRgUBj9"
      },
      "execution_count": null,
      "outputs": []
    },
    {
      "cell_type": "markdown",
      "source": [
        "   Dictionary: Data retrieval in a dictionary is based on keys. Accessing a value by its key is fast, with an average time complexity of O(1). However, dictionaries do not support indexing by position.\n",
        "\n"
      ],
      "metadata": {
        "id": "8wVwm32yUJig"
      }
    },
    {
      "cell_type": "code",
      "source": [
        "my_dict = {'a': 1, 'b': 2, 'c': 3}\n",
        "print(my_dict['b'])  # Output: 2 (fast access by key)\n",
        "print('b' in my_dict)  # Output: True (fast membership check)"
      ],
      "metadata": {
        "id": "Dzh0caugUUhV"
      },
      "execution_count": null,
      "outputs": []
    },
    {
      "cell_type": "markdown",
      "source": [
        "1. Write a code to create a string with your name and print it"
      ],
      "metadata": {
        "id": "-TZNynLCVRFT"
      }
    },
    {
      "cell_type": "code",
      "source": [
        "# Create a string with your name\n",
        "name = \"Your Name\"  # Replace \"Your Name\" with your actual name\n",
        "\n",
        "# Print the string\n",
        "print(name)"
      ],
      "metadata": {
        "colab": {
          "base_uri": "https://localhost:8080/"
        },
        "id": "qAz_sU0MVp-R",
        "outputId": "2daf1f82-9216-4ef7-88e4-36918c9f1615"
      },
      "execution_count": 1,
      "outputs": [
        {
          "output_type": "stream",
          "name": "stdout",
          "text": [
            "Your Name\n"
          ]
        }
      ]
    },
    {
      "cell_type": "markdown",
      "source": [
        "2. Write a code to find the length of the string \"Hello World\""
      ],
      "metadata": {
        "id": "M55uVA0dWKDm"
      }
    },
    {
      "cell_type": "code",
      "source": [
        "# Define the string\n",
        "my_string = \"Hello World\"\n",
        "\n",
        "# Find the length of the string\n",
        "length = len(my_string)\n",
        "\n",
        "# Print the length\n",
        "print(\"The length of the string is:\", length)"
      ],
      "metadata": {
        "colab": {
          "base_uri": "https://localhost:8080/"
        },
        "id": "ozfFqgsZWgeY",
        "outputId": "bd5eea0a-f17a-434c-ef84-293792558d8c"
      },
      "execution_count": 2,
      "outputs": [
        {
          "output_type": "stream",
          "name": "stdout",
          "text": [
            "The length of the string is: 11\n"
          ]
        }
      ]
    },
    {
      "cell_type": "markdown",
      "source": [
        "3. Write a code to slice the first 3 characters from the string \"Python Programming\""
      ],
      "metadata": {
        "id": "q_jiQfZ0W57F"
      }
    },
    {
      "cell_type": "code",
      "source": [
        "# Define the string\n",
        "my_string = \"Python Programming\"\n",
        "\n",
        "# Slice the first 3 characters\n",
        "sliced_string = my_string[:3]\n",
        "\n",
        "# Print the sliced string\n",
        "print(\"The first 3 characters are:\", sliced_string)"
      ],
      "metadata": {
        "colab": {
          "base_uri": "https://localhost:8080/"
        },
        "id": "F0HKaCBvW_HF",
        "outputId": "a780bbeb-b4d3-431c-90e5-888d025c4316"
      },
      "execution_count": 3,
      "outputs": [
        {
          "output_type": "stream",
          "name": "stdout",
          "text": [
            "The first 3 characters are: Pyt\n"
          ]
        }
      ]
    },
    {
      "cell_type": "markdown",
      "source": [
        "4. Write a code to convert the string \"hello\" to uppercase"
      ],
      "metadata": {
        "id": "zVHU56KbXQkk"
      }
    },
    {
      "cell_type": "code",
      "source": [
        "# Define the string\n",
        "text = \"hello\"\n",
        "\n",
        "# Convert to uppercase\n",
        "uppercase_text = text.upper()\n",
        "\n",
        "# Print the result\n",
        "print(uppercase_text)"
      ],
      "metadata": {
        "id": "xz9Ef25EX5xx"
      },
      "execution_count": null,
      "outputs": []
    },
    {
      "cell_type": "markdown",
      "source": [
        "5. Write a code to replace the word \"apple\" with \"orange\" in the string \"I like apple\""
      ],
      "metadata": {
        "id": "BD6X_JumYpKX"
      }
    },
    {
      "cell_type": "code",
      "source": [
        "# Define the string\n",
        "text = \"I like apple\"\n",
        "\n",
        "# Replace \"apple\" with \"orange\"\n",
        "new_text = text.replace(\"apple\", \"orange\")\n",
        "\n",
        "# Print the result\n",
        "print(new_text)"
      ],
      "metadata": {
        "colab": {
          "base_uri": "https://localhost:8080/"
        },
        "id": "gF8xxm8NZmCg",
        "outputId": "aea997b1-3dd8-452f-a517-c862fd6cfe83"
      },
      "execution_count": 4,
      "outputs": [
        {
          "output_type": "stream",
          "name": "stdout",
          "text": [
            "I like orange\n"
          ]
        }
      ]
    },
    {
      "cell_type": "markdown",
      "source": [
        "6. Write a code to create a list with numbers 1 to 5 and print it\n"
      ],
      "metadata": {
        "id": "YphVEXJGZpg6"
      }
    },
    {
      "cell_type": "code",
      "source": [
        "# Create a list with numbers 1 to 5\n",
        "numbers = [1, 2, 3, 4, 5]\n",
        "\n",
        "# Print the list\n",
        "print(numbers)\n"
      ],
      "metadata": {
        "colab": {
          "base_uri": "https://localhost:8080/"
        },
        "id": "P9K7btrmaNXA",
        "outputId": "71ba06c4-4bb4-4992-c02b-c87f93cf2824"
      },
      "execution_count": 5,
      "outputs": [
        {
          "output_type": "stream",
          "name": "stdout",
          "text": [
            "[1, 2, 3, 4, 5]\n"
          ]
        }
      ]
    },
    {
      "cell_type": "markdown",
      "source": [
        "6. Write a code to append the number 10 to the list [1, 2, 3, 4]"
      ],
      "metadata": {
        "id": "Tq6Ymjn5abq4"
      }
    },
    {
      "cell_type": "code",
      "source": [
        "# Define the list\n",
        "numbers = [1, 2, 3, 4]\n",
        "\n",
        "# Append 10 to the list\n",
        "numbers.append(10)\n",
        "\n",
        "# Print the updated list\n",
        "print(numbers)\n"
      ],
      "metadata": {
        "colab": {
          "base_uri": "https://localhost:8080/"
        },
        "id": "Ncq6ixKVa0YF",
        "outputId": "a14ae2a0-5ba5-4c65-9e86-567058502661"
      },
      "execution_count": 6,
      "outputs": [
        {
          "output_type": "stream",
          "name": "stdout",
          "text": [
            "[1, 2, 3, 4, 10]\n"
          ]
        }
      ]
    },
    {
      "cell_type": "markdown",
      "source": [
        "7. Write a code to remove the number 3 from the list [1, 2, 3, 4, 5]"
      ],
      "metadata": {
        "id": "KZcy-dufa9rR"
      }
    },
    {
      "cell_type": "code",
      "source": [
        "# Define the list\n",
        "numbers = [1, 2, 3, 4, 5]\n",
        "\n",
        "# Remove 3 from the list\n",
        "numbers.remove(3)\n",
        "\n",
        "# Print the updated list\n",
        "print(numbers)\n"
      ],
      "metadata": {
        "colab": {
          "base_uri": "https://localhost:8080/"
        },
        "id": "Cm3j5XnJbQAd",
        "outputId": "1382f4ff-4b74-4000-fc43-7b30a4f6424a"
      },
      "execution_count": 7,
      "outputs": [
        {
          "output_type": "stream",
          "name": "stdout",
          "text": [
            "[1, 2, 4, 5]\n"
          ]
        }
      ]
    },
    {
      "cell_type": "markdown",
      "source": [
        "7. Write a code to remove the number 3 from the list [1, 2, 3, 4, 5]"
      ],
      "metadata": {
        "id": "QU5AKcNPbYDj"
      }
    },
    {
      "cell_type": "code",
      "source": [
        "# Define the list\n",
        "numbers = [1, 2, 3, 4, 5]\n",
        "\n",
        "# Remove 3 from the list\n",
        "numbers.remove(3)\n",
        "\n",
        "# Print the updated list\n",
        "print(numbers)\n"
      ],
      "metadata": {
        "colab": {
          "base_uri": "https://localhost:8080/"
        },
        "id": "ok9JeFGNbwmK",
        "outputId": "f5552af2-6933-442c-e5ba-d8e9b28e0aa5"
      },
      "execution_count": 8,
      "outputs": [
        {
          "output_type": "stream",
          "name": "stdout",
          "text": [
            "[1, 2, 4, 5]\n"
          ]
        }
      ]
    },
    {
      "cell_type": "markdown",
      "source": [
        "8.  Write a code to access the second element in the list ['a', 'b', 'c', 'd']"
      ],
      "metadata": {
        "id": "RGu-ydprb4jT"
      }
    },
    {
      "cell_type": "code",
      "source": [
        "# Define the list\n",
        "letters = ['a', 'b', 'c', 'd']\n",
        "\n",
        "# Access the second element (index 1)\n",
        "second_element = letters[1]\n",
        "\n",
        "# Print the result\n",
        "print(second_element)\n"
      ],
      "metadata": {
        "colab": {
          "base_uri": "https://localhost:8080/"
        },
        "id": "guzfSgCXcKi2",
        "outputId": "64ccca20-e3e7-435a-ddd2-2efc25a3e188"
      },
      "execution_count": 9,
      "outputs": [
        {
          "output_type": "stream",
          "name": "stdout",
          "text": [
            "b\n"
          ]
        }
      ]
    },
    {
      "cell_type": "markdown",
      "source": [
        "9.  Write a code to reverse the list [10, 20, 30, 40, 50]"
      ],
      "metadata": {
        "id": "RK_PFNJqdopi"
      }
    },
    {
      "cell_type": "code",
      "source": [
        "# Define the list\n",
        "numbers = [10, 20, 30, 40, 50]\n",
        "\n",
        "# Reverse the list\n",
        "numbers.reverse()\n",
        "\n",
        "# Print the reversed list\n",
        "print(numbers)"
      ],
      "metadata": {
        "colab": {
          "base_uri": "https://localhost:8080/"
        },
        "id": "b4w6UfkYeX-1",
        "outputId": "63ffd5b6-a89e-46dd-d54a-7b4f858ae07a"
      },
      "execution_count": 10,
      "outputs": [
        {
          "output_type": "stream",
          "name": "stdout",
          "text": [
            "[50, 40, 30, 20, 10]\n"
          ]
        }
      ]
    },
    {
      "cell_type": "markdown",
      "source": [
        "10. Write a code to create a tuple with the elements 100, 200, 300 and print it"
      ],
      "metadata": {
        "id": "YHHLblFbeg9l"
      }
    },
    {
      "cell_type": "code",
      "source": [
        "# Create a tuple\n",
        "numbers = (100, 200, 300)\n",
        "\n",
        "# Print the tuple\n",
        "print(numbers)\n"
      ],
      "metadata": {
        "colab": {
          "base_uri": "https://localhost:8080/"
        },
        "id": "rhaI_It5e31Q",
        "outputId": "d322f160-82da-4192-f64b-ee3c75b3e244"
      },
      "execution_count": 11,
      "outputs": [
        {
          "output_type": "stream",
          "name": "stdout",
          "text": [
            "(100, 200, 300)\n"
          ]
        }
      ]
    },
    {
      "cell_type": "markdown",
      "source": [
        "12. Write a code to access the second-to-last element of the tuple ('red', 'green', 'blue', 'yellow')."
      ],
      "metadata": {
        "id": "0IK5e4JLfIXi"
      }
    },
    {
      "cell_type": "code",
      "source": [
        "# Define the tuple\n",
        "colors = ('red', 'green', 'blue', 'yellow')\n",
        "\n",
        "# Access the second-to-last element\n",
        "second_to_last = colors[-2]\n",
        "\n",
        "# Print the result\n",
        "print(second_to_last)\n"
      ],
      "metadata": {
        "colab": {
          "base_uri": "https://localhost:8080/"
        },
        "id": "mERl9c58fjJx",
        "outputId": "a4f15299-edce-46e0-d274-d80eeee4e89f"
      },
      "execution_count": 12,
      "outputs": [
        {
          "output_type": "stream",
          "name": "stdout",
          "text": [
            "blue\n"
          ]
        }
      ]
    },
    {
      "cell_type": "markdown",
      "source": [
        "13. Write a code to find the minimum number in the tuple (10, 20, 5, 15)"
      ],
      "metadata": {
        "id": "Erugj9b4ftSU"
      }
    },
    {
      "cell_type": "code",
      "source": [
        "# Define the tuple\n",
        "numbers = (10, 20, 5, 15)\n",
        "\n",
        "# Find the minimum number\n",
        "min_number = min(numbers)\n",
        "\n",
        "# Print the result\n",
        "print(min_number)\n"
      ],
      "metadata": {
        "colab": {
          "base_uri": "https://localhost:8080/"
        },
        "id": "KtDIZO3hf_Vx",
        "outputId": "e6a092ef-3e8e-47cc-dbca-2d35c4082469"
      },
      "execution_count": 13,
      "outputs": [
        {
          "output_type": "stream",
          "name": "stdout",
          "text": [
            "5\n"
          ]
        }
      ]
    },
    {
      "cell_type": "markdown",
      "source": [
        "14.  Write a code to find the index of the element \"cat\" in the tuple ('dog', 'cat', 'rabbit')"
      ],
      "metadata": {
        "id": "InTs4KQMgEc4"
      }
    },
    {
      "cell_type": "code",
      "source": [
        "# Define the tuple\n",
        "animals = ('dog', 'cat', 'rabbit')\n",
        "\n",
        "# Find the index of the element \"cat\"\n",
        "index_of_cat = animals.index('cat')\n",
        "\n",
        "# Print the result\n",
        "print(index_of_cat)"
      ],
      "metadata": {
        "colab": {
          "base_uri": "https://localhost:8080/"
        },
        "id": "dFu_yPWxgj7g",
        "outputId": "ea528278-f1ba-4cd0-db4a-cdebba1c2688"
      },
      "execution_count": 14,
      "outputs": [
        {
          "output_type": "stream",
          "name": "stdout",
          "text": [
            "1\n"
          ]
        }
      ]
    },
    {
      "cell_type": "markdown",
      "source": [
        "15.  Write a code to create a tuple containing three different fruits and check if \"kiwi\" is in it"
      ],
      "metadata": {
        "id": "hyb_Pm1Mgwik"
      }
    },
    {
      "cell_type": "code",
      "source": [
        "# Create the tuple with fruits\n",
        "fruits = ('apple', 'banana', 'orange')\n",
        "\n",
        "# Check if \"kiwi\" is in the tuple\n",
        "is_kiwi_in_tuple = 'kiwi' in fruits\n",
        "\n",
        "# Print the result\n",
        "print(is_kiwi_in_tuple)\n"
      ],
      "metadata": {
        "colab": {
          "base_uri": "https://localhost:8080/"
        },
        "id": "94m8B_sEhECv",
        "outputId": "be4ecb1d-718f-40ef-b1d8-33aef6987498"
      },
      "execution_count": 15,
      "outputs": [
        {
          "output_type": "stream",
          "name": "stdout",
          "text": [
            "False\n"
          ]
        }
      ]
    },
    {
      "cell_type": "markdown",
      "source": [
        "16.  Write a code to create a set with the elements 'a', 'b', 'c' and print it"
      ],
      "metadata": {
        "id": "gAjE-Sc_hLlz"
      }
    },
    {
      "cell_type": "code",
      "source": [
        "# Create the set\n",
        "letters = {'a', 'b', 'c'}\n",
        "\n",
        "# Print the set\n",
        "print(letters)\n"
      ],
      "metadata": {
        "colab": {
          "base_uri": "https://localhost:8080/"
        },
        "id": "MMDI-Y-ghv9P",
        "outputId": "b61319fa-d13b-42f2-d4da-73ce28aa8ef7"
      },
      "execution_count": 16,
      "outputs": [
        {
          "output_type": "stream",
          "name": "stdout",
          "text": [
            "{'c', 'a', 'b'}\n"
          ]
        }
      ]
    },
    {
      "cell_type": "markdown",
      "source": [
        "17. Write a code to clear all elements from the set {1, 2, 3, 4, 5}"
      ],
      "metadata": {
        "id": "l6qiBlvAh8Hb"
      }
    },
    {
      "cell_type": "code",
      "source": [
        "# Define the set\n",
        "numbers = {1, 2, 3, 4, 5}\n",
        "\n",
        "# Clear all elements from the set\n",
        "numbers.clear()\n",
        "\n",
        "# Print the set after clearing\n",
        "print(numbers)\n"
      ],
      "metadata": {
        "colab": {
          "base_uri": "https://localhost:8080/"
        },
        "id": "bc-fxqUwiiHO",
        "outputId": "f449ff9f-95f9-4f66-e308-c44fcb539035"
      },
      "execution_count": 17,
      "outputs": [
        {
          "output_type": "stream",
          "name": "stdout",
          "text": [
            "set()\n"
          ]
        }
      ]
    },
    {
      "cell_type": "markdown",
      "source": [
        "18. Write a code to remove the element 4 from the set {1, 2, 3, 4}"
      ],
      "metadata": {
        "id": "9Bg8kU-kiwHS"
      }
    },
    {
      "cell_type": "code",
      "source": [
        "# Define the set\n",
        "numbers = {1, 2, 3, 4}\n",
        "\n",
        "# Remove the element 4\n",
        "numbers.remove(4)\n",
        "\n",
        "# Print the updated set\n",
        "print(numbers)"
      ],
      "metadata": {
        "colab": {
          "base_uri": "https://localhost:8080/"
        },
        "id": "J9RlDUKijCtB",
        "outputId": "5891d787-9faa-4e48-cd20-b1094af75df1"
      },
      "execution_count": 18,
      "outputs": [
        {
          "output_type": "stream",
          "name": "stdout",
          "text": [
            "{1, 2, 3}\n"
          ]
        }
      ]
    },
    {
      "cell_type": "markdown",
      "source": [
        "19.  Write a code to find the union of two sets {1, 2, 3} and {3, 4, 5}"
      ],
      "metadata": {
        "id": "_lkFG84IjKO7"
      }
    },
    {
      "cell_type": "code",
      "source": [
        "# Define the sets\n",
        "set1 = {1, 2, 3}\n",
        "set2 = {3, 4, 5}\n",
        "\n",
        "# Find the union of the two sets\n",
        "union_set = set1 | set2\n",
        "\n",
        "# Print the union of the sets\n",
        "print(union_set)\n"
      ],
      "metadata": {
        "colab": {
          "base_uri": "https://localhost:8080/"
        },
        "id": "3TGAhjQbjamH",
        "outputId": "bc6fe958-2d77-4f87-8b28-45dd8c3eb25b"
      },
      "execution_count": 19,
      "outputs": [
        {
          "output_type": "stream",
          "name": "stdout",
          "text": [
            "{1, 2, 3, 4, 5}\n"
          ]
        }
      ]
    },
    {
      "cell_type": "markdown",
      "source": [
        "20. Write a code to find the intersection of two sets {1, 2, 3} and {2, 3, 4}"
      ],
      "metadata": {
        "id": "JPnjXF0Vjg7-"
      }
    },
    {
      "cell_type": "code",
      "source": [
        "# Define the sets\n",
        "set1 = {1, 2, 3}\n",
        "set2 = {2, 3, 4}\n",
        "\n",
        "# Find the intersection of the two sets\n",
        "intersection_set = set1 & set2\n",
        "\n",
        "# Print the intersection of the sets\n",
        "print(intersection_set)\n"
      ],
      "metadata": {
        "colab": {
          "base_uri": "https://localhost:8080/"
        },
        "id": "Q3K-aKWPk5df",
        "outputId": "c933dc87-5b49-4fda-fc01-a02cc369b349"
      },
      "execution_count": 21,
      "outputs": [
        {
          "output_type": "stream",
          "name": "stdout",
          "text": [
            "{2, 3}\n"
          ]
        }
      ]
    },
    {
      "cell_type": "markdown",
      "source": [
        "22. Write a code to create a dictionary with the keys \"name\", \"age\", and \"city\", and print it"
      ],
      "metadata": {
        "id": "ZJj4fF_ZlTHl"
      }
    },
    {
      "cell_type": "code",
      "source": [
        "# Create the dictionary\n",
        "person = {\n",
        "    \"name\": \"John\",\n",
        "    \"age\": 30,\n",
        "    \"city\": \"New York\"\n",
        "}\n",
        "\n",
        "# Print the dictionary\n",
        "print(person)"
      ],
      "metadata": {
        "colab": {
          "base_uri": "https://localhost:8080/"
        },
        "id": "9JCc1RkiliUL",
        "outputId": "32093026-273b-4243-dbb9-2091b2ea5417"
      },
      "execution_count": 22,
      "outputs": [
        {
          "output_type": "stream",
          "name": "stdout",
          "text": [
            "{'name': 'John', 'age': 30, 'city': 'New York'}\n"
          ]
        }
      ]
    },
    {
      "cell_type": "markdown",
      "source": [
        "23. Write a code to add a new key-value pair \"country\": \"USA\" to the dictionary {'name': 'John', 'age': 25}"
      ],
      "metadata": {
        "id": "lyYz71MAlmNZ"
      }
    },
    {
      "cell_type": "code",
      "source": [
        "# Define the dictionary\n",
        "person = {'name': 'John', 'age': 25}\n",
        "\n",
        "# Add the new key-value pair\n",
        "person['country'] = 'USA'\n",
        "\n",
        "# Print the updated dictionary\n",
        "print(person)\n"
      ],
      "metadata": {
        "colab": {
          "base_uri": "https://localhost:8080/"
        },
        "id": "YVXLJ4SCl6KC",
        "outputId": "cccb3866-e3e7-41cd-ec4a-42c80621e885"
      },
      "execution_count": 1,
      "outputs": [
        {
          "output_type": "stream",
          "name": "stdout",
          "text": [
            "{'name': 'John', 'age': 25, 'country': 'USA'}\n"
          ]
        }
      ]
    },
    {
      "cell_type": "markdown",
      "source": [
        "24. Write a code to access the value associated with the key \"name\" in the dictionary {'name': 'Alice', 'age': 30}"
      ],
      "metadata": {
        "id": "MYYl6gdKH8BB"
      }
    },
    {
      "cell_type": "code",
      "source": [
        "# Define the dictionary\n",
        "person = {'name': 'Alice', 'age': 30}\n",
        "\n",
        "# Access the value of the key \"name\"\n",
        "name_value = person['name']\n",
        "\n",
        "# Print the result\n",
        "print(name_value)\n"
      ],
      "metadata": {
        "colab": {
          "base_uri": "https://localhost:8080/"
        },
        "id": "E-CGNXVUIcfR",
        "outputId": "b3f01d91-42b3-4683-a82f-78b7b97c0818"
      },
      "execution_count": 2,
      "outputs": [
        {
          "output_type": "stream",
          "name": "stdout",
          "text": [
            "Alice\n"
          ]
        }
      ]
    },
    {
      "cell_type": "markdown",
      "source": [
        "25. . Write a code to remove the key \"age\" from the dictionary {'name': 'Bob', 'age': 22, 'city': 'New York'}.\n",
        "\n"
      ],
      "metadata": {
        "id": "5rX_2FEKIiHm"
      }
    },
    {
      "cell_type": "code",
      "source": [
        "# Define the dictionary\n",
        "person = {'name': 'Bob', 'age': 22, 'city': 'New York'}\n",
        "\n",
        "# Remove the key \"age\"\n",
        "del person['age']\n",
        "\n",
        "# Print the updated dictionary\n",
        "print(person)\n"
      ],
      "metadata": {
        "colab": {
          "base_uri": "https://localhost:8080/"
        },
        "id": "MgEudftZIx2t",
        "outputId": "0b225580-ca3e-43d6-a943-befc7d7ef407"
      },
      "execution_count": 3,
      "outputs": [
        {
          "output_type": "stream",
          "name": "stdout",
          "text": [
            "{'name': 'Bob', 'city': 'New York'}\n"
          ]
        }
      ]
    },
    {
      "cell_type": "markdown",
      "source": [
        "26. Write a code to check if the key \"city\" exists in the dictionary {'name': 'Alice', 'city': 'Paris'}"
      ],
      "metadata": {
        "id": "S12Nj5GxJRAI"
      }
    },
    {
      "cell_type": "code",
      "source": [
        "# Define the dictionary\n",
        "person = {'name': 'Alice', 'city': 'Paris'}\n",
        "\n",
        "# Check if the key \"city\" exists\n",
        "if 'city' in person:\n",
        "    print(\"Key 'city' exists in the dictionary\")\n",
        "else:\n",
        "    print(\"Key 'city' does not exist in the dictionary\")\n"
      ],
      "metadata": {
        "colab": {
          "base_uri": "https://localhost:8080/"
        },
        "id": "Z81NnvCNJV4W",
        "outputId": "ad98e920-11d7-467b-82c5-504667c1fac9"
      },
      "execution_count": 4,
      "outputs": [
        {
          "output_type": "stream",
          "name": "stdout",
          "text": [
            "Key 'city' exists in the dictionary\n"
          ]
        }
      ]
    },
    {
      "cell_type": "markdown",
      "source": [
        "27. Write a code to create a list, a tuple, and a dictionary, and print them all"
      ],
      "metadata": {
        "id": "b6A02EaVJpdV"
      }
    },
    {
      "cell_type": "code",
      "source": [
        "# Create a list\n",
        "my_list = [1, 2, 3, 4, 5]\n",
        "\n",
        "# Create a tuple\n",
        "my_tuple = ('apple', 'banana', 'cherry')\n",
        "\n",
        "# Create a dictionary\n",
        "my_dict = {'name': 'Alice', 'age': 25, 'city': 'New York'}\n",
        "\n",
        "# Print them all\n",
        "print(\"List:\", my_list)\n",
        "print(\"Tuple:\", my_tuple)\n",
        "print(\"Dictionary:\", my_dict)\n"
      ],
      "metadata": {
        "colab": {
          "base_uri": "https://localhost:8080/"
        },
        "id": "lKWiq_NFJ9EI",
        "outputId": "61e72114-3be9-479e-d8ce-3e3860037b34"
      },
      "execution_count": 5,
      "outputs": [
        {
          "output_type": "stream",
          "name": "stdout",
          "text": [
            "List: [1, 2, 3, 4, 5]\n",
            "Tuple: ('apple', 'banana', 'cherry')\n",
            "Dictionary: {'name': 'Alice', 'age': 25, 'city': 'New York'}\n"
          ]
        }
      ]
    },
    {
      "cell_type": "markdown",
      "source": [
        "28. Write a code to create a list of 5 random numbers between 1 and 100, sort it in ascending order, and print the\n",
        "result.(replaced)\n",
        "\n"
      ],
      "metadata": {
        "id": "VWaLw3k4KOe9"
      }
    },
    {
      "cell_type": "code",
      "source": [
        "import random\n",
        "\n",
        "# Generate a list of 5 random numbers between 1 and 100\n",
        "random_numbers = random.sample(range(1, 101), 5)\n",
        "\n",
        "# Sort the list in ascending order\n",
        "random_numbers.sort()\n",
        "\n",
        "# Print the sorted list\n",
        "print(random_numbers)\n"
      ],
      "metadata": {
        "colab": {
          "base_uri": "https://localhost:8080/"
        },
        "id": "CgN37lXjKTAz",
        "outputId": "37580b4e-4e6d-4b28-e961-3a4e2c0d16d7"
      },
      "execution_count": 6,
      "outputs": [
        {
          "output_type": "stream",
          "name": "stdout",
          "text": [
            "[6, 15, 21, 25, 28]\n"
          ]
        }
      ]
    },
    {
      "cell_type": "markdown",
      "source": [
        "28.  Write a code to create a list with strings and print the element at the third index."
      ],
      "metadata": {
        "id": "nT_8kWyWKo2J"
      }
    },
    {
      "cell_type": "code",
      "source": [
        "# Create a list with strings\n",
        "words = [\"apple\", \"banana\", \"cherry\", \"date\", \"elderberry\"]\n",
        "\n",
        "# Print the element at the third index (index 3)\n",
        "print(words[3])\n"
      ],
      "metadata": {
        "colab": {
          "base_uri": "https://localhost:8080/"
        },
        "id": "wassnhNkKrvq",
        "outputId": "ecba3fb4-7aec-4d12-e7f9-3ebfbb706781"
      },
      "execution_count": 7,
      "outputs": [
        {
          "output_type": "stream",
          "name": "stdout",
          "text": [
            "date\n"
          ]
        }
      ]
    },
    {
      "cell_type": "markdown",
      "source": [
        "29. Write a code to combine two dictionaries into one and print the result"
      ],
      "metadata": {
        "id": "c4bZzGwpKxga"
      }
    },
    {
      "cell_type": "code",
      "source": [
        "# Define two dictionaries\n",
        "dict1 = {'a': 1, 'b': 2}\n",
        "dict2 = {'c': 3, 'd': 4}\n",
        "\n",
        "# Combine the dictionaries\n",
        "combined_dict = {**dict1, **dict2}\n",
        "\n",
        "# Print the result\n",
        "print(combined_dict)\n"
      ],
      "metadata": {
        "colab": {
          "base_uri": "https://localhost:8080/"
        },
        "id": "6kNuXedILKCd",
        "outputId": "f82be25d-f247-4d78-fe37-f3e429a030e8"
      },
      "execution_count": 8,
      "outputs": [
        {
          "output_type": "stream",
          "name": "stdout",
          "text": [
            "{'a': 1, 'b': 2, 'c': 3, 'd': 4}\n"
          ]
        }
      ]
    },
    {
      "cell_type": "markdown",
      "source": [
        "30. Write a code to convert a list of strings into a set"
      ],
      "metadata": {
        "id": "UU_4Ku_ILQIA"
      }
    },
    {
      "cell_type": "code",
      "source": [
        "# Define a list of strings\n",
        "string_list = [\"apple\", \"banana\", \"cherry\", \"apple\", \"banana\"]\n",
        "\n",
        "# Convert the list into a set\n",
        "string_set = set(string_list)\n",
        "\n",
        "# Print the result\n",
        "print(string_set)\n"
      ],
      "metadata": {
        "colab": {
          "base_uri": "https://localhost:8080/"
        },
        "id": "fNRQk2NNLXn-",
        "outputId": "22c50bb1-7b80-4b11-fab0-be912ffc77d4"
      },
      "execution_count": 9,
      "outputs": [
        {
          "output_type": "stream",
          "name": "stdout",
          "text": [
            "{'apple', 'banana', 'cherry'}\n"
          ]
        }
      ]
    }
  ]
}